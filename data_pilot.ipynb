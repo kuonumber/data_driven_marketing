{
  "nbformat": 4,
  "nbformat_minor": 0,
  "metadata": {
    "colab": {
      "name": "data_pilot.ipynb",
      "provenance": [],
      "collapsed_sections": [
        "fQn9ykYxjpuJ",
        "8B6NXk6VPmzG",
        "NoIUFhY318pN",
        "WmYdZUyGcRb-",
        "dOyyfNXKV9jB",
        "-tWnSs5Am8YF"
      ],
      "machine_shape": "hm",
      "authorship_tag": "ABX9TyP4snkb9IjNocHC7GfZFGDF",
      "include_colab_link": true
    },
    "kernelspec": {
      "name": "python3",
      "display_name": "Python 3"
    }
  },
  "cells": [
    {
      "cell_type": "markdown",
      "metadata": {
        "id": "view-in-github",
        "colab_type": "text"
      },
      "source": [
        "<a href=\"https://colab.research.google.com/github/kuonumber/data_driven_marketing/blob/master/data_pilot.ipynb\" target=\"_parent\"><img src=\"https://colab.research.google.com/assets/colab-badge.svg\" alt=\"Open In Colab\"/></a>"
      ]
    },
    {
      "cell_type": "code",
      "metadata": {
        "id": "XAn8EvmLiTUx"
      },
      "source": [
        "# ! pip install https://github.com/pandas-profiling/pandas-profiling/archive/master.zip"
      ],
      "execution_count": null,
      "outputs": []
    },
    {
      "cell_type": "code",
      "metadata": {
        "id": "cIcWRbjld9XA"
      },
      "source": [
        "import pandas as pd\n",
        "# from pandas_profiling import ProfileReport\n",
        "from google.colab import drive\n",
        "import matplotlib.pyplot as plt\n",
        "import pytz\n",
        "import numpy as np\n"
      ],
      "execution_count": null,
      "outputs": []
    },
    {
      "cell_type": "code",
      "metadata": {
        "id": "bp9gEdv1dy04"
      },
      "source": [
        "drive.mount('/gdrive')\n"
      ],
      "execution_count": null,
      "outputs": []
    },
    {
      "cell_type": "code",
      "metadata": {
        "id": "TF2hUqaqeaTG"
      },
      "source": [
        "!ls /gdrive/'My Drive'/'Colab Notebooks'/kkday/"
      ],
      "execution_count": null,
      "outputs": []
    },
    {
      "cell_type": "code",
      "metadata": {
        "id": "tlIWMn-M18dJ"
      },
      "source": [
        "%cd  '/gdrive/My Drive/Colab Notebooks/kkday/' "
      ],
      "execution_count": null,
      "outputs": []
    },
    {
      "cell_type": "code",
      "metadata": {
        "id": "sSNGxNkugg4Z"
      },
      "source": [
        "!ls"
      ],
      "execution_count": null,
      "outputs": []
    },
    {
      "cell_type": "code",
      "metadata": {
        "id": "qzdmwGrKgoIc"
      },
      "source": [
        "! df -h"
      ],
      "execution_count": null,
      "outputs": []
    },
    {
      "cell_type": "code",
      "metadata": {
        "id": "ahdJ1E56eUK7"
      },
      "source": [
        "file_path = '/gdrive/My Drive/Colab Notebooks/kkday/'"
      ],
      "execution_count": null,
      "outputs": []
    },
    {
      "cell_type": "code",
      "metadata": {
        "id": "W4ItNhQmgMwx"
      },
      "source": [
        "# ! unzip /gdrive/'My Drive'/'Colab Notebooks'/kkday/使用者行為.csv.zip"
      ],
      "execution_count": null,
      "outputs": []
    },
    {
      "cell_type": "code",
      "metadata": {
        "id": "Qp0PLHO42e0b"
      },
      "source": [
        "!ls"
      ],
      "execution_count": null,
      "outputs": []
    },
    {
      "cell_type": "code",
      "metadata": {
        "id": "DTvUOPdUeOS_"
      },
      "source": [
        "df_user_behaviour = pd.read_csv('./使用者行為.csv')\n",
        "df_user_info = pd.read_csv('./使用者資訊.csv')\n",
        "df_area = pd.read_csv('./地區細項表.csv')\n",
        "df_product_info = pd.read_csv('./產品資訊.csv')\n",
        "df_booking = pd.read_csv('./訂單資訊.csv')\n",
        "df_bad_bill = pd.read_csv('./爭議帳款.csv')\n",
        "df_fraudulent_reason = pd.read_csv('./盜刷原因.csv')\n",
        "df_act = pd.read_csv('./分類細項表.csv')"
      ],
      "execution_count": null,
      "outputs": []
    },
    {
      "cell_type": "markdown",
      "metadata": {
        "id": "E724BHTA0va1"
      },
      "source": [
        "## profiling"
      ]
    },
    {
      "cell_type": "code",
      "metadata": {
        "id": "gDGYuWo04LWQ"
      },
      "source": [
        "# ! pip install https://github.com/pandas-profiling/pandas-profiling/archive/master.zip"
      ],
      "execution_count": null,
      "outputs": []
    },
    {
      "cell_type": "code",
      "metadata": {
        "id": "UeTFcOjshapO"
      },
      "source": [
        "# prof_user_behaviour = ProfileReport(df_user_behaviour)\n",
        "# prof_user_info = ProfileReport(df_user_info)\n",
        "# prof_area = ProfileReport(df_area)\n",
        "# prof_product = ProfileReport(df_product_info)\n",
        "# prof_booking = ProfileReport(df_booking)\n",
        "# prof_bill = ProfileReport(df_bad_bill)\n",
        "# prof_fraudulent_reason = ProfileReport(df_fraudulent_reason)\n",
        "\n",
        "# prof.to_file(output_file='output.html')"
      ],
      "execution_count": null,
      "outputs": []
    },
    {
      "cell_type": "code",
      "metadata": {
        "id": "GXGfLd9D2TNd"
      },
      "source": [
        "prof_user_behaviour"
      ],
      "execution_count": null,
      "outputs": []
    },
    {
      "cell_type": "code",
      "metadata": {
        "id": "FhFLolsqnOWS"
      },
      "source": [
        "# pd.read_csv(file_path + '分類細項表.csv').head(3),\n",
        "# pd.read_csv(file_path + '盜刷原因.csv').head(3),\n",
        "# pd.read_csv(file_path + '地區細項表.csv').head(3),\n",
        "# pd.read_csv(file_path + '訂單資訊.csv').head(3),\n",
        "# pd.read_csv(file_path + '爭議帳款.csv').head(3),\n",
        "# pd.read_csv(file_path + '使用者資訊.csv').head(3),\n",
        "# pd.read_csv(file_path + '產品資訊.csv').head(3),\n"
      ],
      "execution_count": null,
      "outputs": []
    },
    {
      "cell_type": "markdown",
      "metadata": {
        "id": "gKEITTk104bb"
      },
      "source": [
        "## EDA"
      ]
    },
    {
      "cell_type": "code",
      "metadata": {
        "id": "cdLHgfAU6y7h"
      },
      "source": [
        "df_user_behaviour.action_time = pd.to_datetime(df_user_behaviour.action_time)\n",
        "df_user_info.create_date = pd.to_datetime(df_user_info.create_date)\n",
        "df_booking.create_date = pd.to_datetime(df_booking.create_date)\n",
        "df_booking.go_date = pd.to_datetime(df_booking.go_date )\n",
        "df_booking.back_date = pd.to_datetime(df_booking.back_date )"
      ],
      "execution_count": null,
      "outputs": []
    },
    {
      "cell_type": "code",
      "metadata": {
        "id": "_EYEmmOzbGyc"
      },
      "source": [
        "df_booking['revenue'] = df_booking.price *df_booking.qty"
      ],
      "execution_count": null,
      "outputs": []
    },
    {
      "cell_type": "code",
      "metadata": {
        "id": "N4nv4Gheu9Ri"
      },
      "source": [
        "df_area.head()\n",
        "df_bad_bill.head()\n",
        "df_booking.head()\n",
        "# df_fraudulent_reason.head(10)\n",
        "df_product_info.head()\n",
        "# df_user_behaviour.info()\n",
        "df_user_info.head()\n",
        "df_act"
      ],
      "execution_count": null,
      "outputs": []
    },
    {
      "cell_type": "code",
      "metadata": {
        "id": "L8i2v-jR5GpH"
      },
      "source": [
        "df_product_info"
      ],
      "execution_count": null,
      "outputs": []
    },
    {
      "cell_type": "code",
      "metadata": {
        "id": "HVPyLnjA4qnf"
      },
      "source": [
        "df_product_info.head().iloc[0]['cities']\n"
      ],
      "execution_count": null,
      "outputs": []
    },
    {
      "cell_type": "code",
      "metadata": {
        "id": "30QWslA9rdcB"
      },
      "source": [
        "df_booking.head()\n"
      ],
      "execution_count": null,
      "outputs": []
    },
    {
      "cell_type": "code",
      "metadata": {
        "id": "UbdERtCQcaHj"
      },
      "source": [
        ""
      ],
      "execution_count": null,
      "outputs": []
    },
    {
      "cell_type": "code",
      "metadata": {
        "id": "9GA3zNGe1WvD"
      },
      "source": [
        "df_act"
      ],
      "execution_count": null,
      "outputs": []
    },
    {
      "cell_type": "code",
      "metadata": {
        "id": "NCtX-VQx2OSd"
      },
      "source": [
        "df_area.columns"
      ],
      "execution_count": null,
      "outputs": []
    },
    {
      "cell_type": "code",
      "metadata": {
        "id": "iPtFXfOd1AXH"
      },
      "source": [
        "df_area.query('area_cd==\"A01-005-00001\"')"
      ],
      "execution_count": null,
      "outputs": []
    },
    {
      "cell_type": "code",
      "metadata": {
        "id": "dng_rNHm01TG"
      },
      "source": [
        "df_product_info.query('prod_oid==\"13931\"')"
      ],
      "execution_count": null,
      "outputs": []
    },
    {
      "cell_type": "code",
      "metadata": {
        "id": "uQw0hAcZ1c8s"
      },
      "source": [
        "# df_booking.prod_id.value_counts().reset_index(drop=True)\n",
        "(df_booking.prod_id.value_counts().reset_index(drop=True).cumsum()/df_booking.prod_id.value_counts().reset_index(drop=True).sum()).head(500)"
      ],
      "execution_count": null,
      "outputs": []
    },
    {
      "cell_type": "code",
      "metadata": {
        "id": "jAinWppujyA7"
      },
      "source": [
        "!ls"
      ],
      "execution_count": null,
      "outputs": []
    },
    {
      "cell_type": "code",
      "metadata": {
        "id": "97eVTE2_JBep"
      },
      "source": [
        "df_product_detail = pd.read_csv('./產品資訊_完整map_use (1).csv')"
      ],
      "execution_count": null,
      "outputs": []
    },
    {
      "cell_type": "code",
      "metadata": {
        "id": "dt3XglzbJFjc"
      },
      "source": [
        "df_product_detail.country_cd.value_counts().head(50)"
      ],
      "execution_count": null,
      "outputs": []
    },
    {
      "cell_type": "code",
      "metadata": {
        "id": "-GZQsL-Sl88O"
      },
      "source": [
        "df_product_detail[df_product_detail.prod_oid !=df_product_detail.prod_id]"
      ],
      "execution_count": null,
      "outputs": []
    },
    {
      "cell_type": "code",
      "metadata": {
        "id": "DYKrw1m_q2O7"
      },
      "source": [
        "df_product_detail.head()"
      ],
      "execution_count": null,
      "outputs": []
    },
    {
      "cell_type": "code",
      "metadata": {
        "id": "tgnwv_1swjeK"
      },
      "source": [
        "df_product_detail_ = df_product_detail[['prod_oid','tags_small','short_nm','country_cd']]"
      ],
      "execution_count": null,
      "outputs": []
    },
    {
      "cell_type": "code",
      "metadata": {
        "id": "sySbRMYQqmzP"
      },
      "source": [
        "df_booking_2019 = pd.merge(df_booking, df_product_detail_, left_on='prod_id', right_on='prod_oid')"
      ],
      "execution_count": null,
      "outputs": []
    },
    {
      "cell_type": "code",
      "metadata": {
        "id": "sdG7S9hzqsl8"
      },
      "source": [
        "df_booking_2019"
      ],
      "execution_count": null,
      "outputs": []
    },
    {
      "cell_type": "code",
      "metadata": {
        "id": "pNfHQrq-tPVC"
      },
      "source": [
        "pop_country = ['DE', 'NZ', 'ES', 'IT', 'ID', 'UK', 'FR', 'VN', 'MY', 'CN', 'SG', 'MO',\n",
        "       'AU', 'US', 'PH', 'TH', 'HK', 'KR', 'TW', 'JP']"
      ],
      "execution_count": null,
      "outputs": []
    },
    {
      "cell_type": "code",
      "metadata": {
        "id": "AS71B6LatoVC"
      },
      "source": [
        "pop_country"
      ],
      "execution_count": null,
      "outputs": []
    },
    {
      "cell_type": "code",
      "metadata": {
        "id": "5GY2iHbQqV2Q"
      },
      "source": [
        "(df_booking_2019.query('country_cd in @ pop_country').groupby([pd.Grouper(key='create_date', freq='M'),'country_cd'])['country_cd']\n",
        ".count().unstack().plot(kind='area', figsize=(15,7), cmap='tab20'))\n",
        "plt.legend( bbox_to_anchor=(0.6, 0., 0.48, 0.9)  )\n",
        "plt.title('Top20')"
      ],
      "execution_count": null,
      "outputs": []
    },
    {
      "cell_type": "code",
      "metadata": {
        "id": "VWzHh4FoqV9o"
      },
      "source": [
        "df_booking.columns"
      ],
      "execution_count": null,
      "outputs": []
    },
    {
      "cell_type": "code",
      "metadata": {
        "id": "IfqQSYeOqWBx"
      },
      "source": [
        ""
      ],
      "execution_count": null,
      "outputs": []
    },
    {
      "cell_type": "code",
      "metadata": {
        "id": "fvm_EgQZqV7q"
      },
      "source": [
        ""
      ],
      "execution_count": null,
      "outputs": []
    },
    {
      "cell_type": "code",
      "metadata": {
        "id": "W6IeF2edJFoA"
      },
      "source": [
        "df_booking_201912 = df_booking[df_booking.create_date>=\"20191201\"].reset_index(drop=True)"
      ],
      "execution_count": null,
      "outputs": []
    },
    {
      "cell_type": "code",
      "metadata": {
        "id": "uGeVKA3ruW09"
      },
      "source": [
        "df_booking_201912 = pd.merge(df_booking_201912, df_product_detail_, left_on='prod_id', right_on='prod_oid')"
      ],
      "execution_count": null,
      "outputs": []
    },
    {
      "cell_type": "code",
      "metadata": {
        "id": "_dQZ00YcyICw"
      },
      "source": [
        "df_booking_201912.tags_small.value_counts()[0:20]"
      ],
      "execution_count": null,
      "outputs": []
    },
    {
      "cell_type": "code",
      "metadata": {
        "id": "Be9Ve7-iOPzN"
      },
      "source": [
        "df_booking_201912.head()"
      ],
      "execution_count": null,
      "outputs": []
    },
    {
      "cell_type": "code",
      "metadata": {
        "id": "TtlrCBglzNH6"
      },
      "source": [
        "df_booking_201912.query('tags_small==\"WiFi & SIM卡\"').short_nm.value_counts()\n",
        "# .groupby(['tags_small'])['tags_small'].count().sort_values()"
      ],
      "execution_count": null,
      "outputs": []
    },
    {
      "cell_type": "code",
      "metadata": {
        "id": "vgEJXOTv29o-"
      },
      "source": [
        "df_booking_201912.query('tags_small==\"交通票券\"').short_nm.value_counts()\n"
      ],
      "execution_count": null,
      "outputs": []
    },
    {
      "cell_type": "code",
      "metadata": {
        "id": "1ueQiBOu7mSQ"
      },
      "source": [
        ""
      ],
      "execution_count": null,
      "outputs": []
    },
    {
      "cell_type": "markdown",
      "metadata": {
        "id": "2E9Cv2Zz1Mdf"
      },
      "source": [
        "![1601119522562.jpg](data:image/jpeg;base64,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)"
      ]
    },
    {
      "cell_type": "code",
      "metadata": {
        "id": "qF-yJDNV1OuB"
      },
      "source": [
        "# city_counts 是他購買的項目會橫跨幾個城市\n",
        "# country_counts 是他購買的項目會橫跨幾個國家\n",
        "# main country 是他購買的項目的出現最多次的國家\n",
        "# counts 是這個產品在訂單資訊裡面出現的次數"
      ],
      "execution_count": null,
      "outputs": []
    },
    {
      "cell_type": "code",
      "metadata": {
        "id": "H33dnFVi1zQo"
      },
      "source": [
        ""
      ],
      "execution_count": null,
      "outputs": []
    },
    {
      "cell_type": "markdown",
      "metadata": {
        "id": "N9uI0R5w10te"
      },
      "source": [
        "# 營運指標\n"
      ]
    },
    {
      "cell_type": "markdown",
      "metadata": {
        "id": "wkeRz8-Q2HRI"
      },
      "source": [
        "## DAU (daily active users)\n",
        "\n",
        "*  活躍用戶，隨著每間公司的營運目標都會有所不同  \n",
        "* [你的企業營運指標設對了嗎？](https://medium.com/asiayo-engineering/%E4%BD%A0%E7%9A%84%E4%BC%81%E6%A5%AD%E7%87%9F%E9%81%8B%E6%8C%87%E6%A8%99%E8%A8%AD%E5%B0%8D%E4%BA%86%E5%97%8E-%E8%A8%AD%E5%AE%9A%E9%97%9C%E9%8D%B5%E6%8C%87%E6%A8%99%E5%B8%B8%E8%A6%8B%E7%9A%84%E5%9B%9B%E5%A4%A7%E9%8C%AF%E8%AA%A4-cef5e9ac9883)"
      ]
    },
    {
      "cell_type": "code",
      "metadata": {
        "id": "CvS1Nc6M2O0W"
      },
      "source": [
        "df_user_behaviour.action.value_counts()"
      ],
      "execution_count": null,
      "outputs": []
    },
    {
      "cell_type": "code",
      "metadata": {
        "id": "sNGKW6ozDzqb"
      },
      "source": [
        "df_user_behaviour.groupby('member_id').agg({'action':'value_counts'})"
      ],
      "execution_count": null,
      "outputs": []
    },
    {
      "cell_type": "code",
      "metadata": {
        "id": "i9_oGKfPE9Ez"
      },
      "source": [
        "df_user_behaviour_count = _"
      ],
      "execution_count": null,
      "outputs": []
    },
    {
      "cell_type": "code",
      "metadata": {
        "id": "BhtvGlXiFCA4"
      },
      "source": [
        "df_user_behaviour_count.columns = ['action_count']"
      ],
      "execution_count": null,
      "outputs": []
    },
    {
      "cell_type": "code",
      "metadata": {
        "id": "WGaTVt4lGNdW"
      },
      "source": [
        "df_user_behaviour_count = df_user_behaviour_count.unstack()"
      ],
      "execution_count": null,
      "outputs": []
    },
    {
      "cell_type": "code",
      "metadata": {
        "id": "CXO7yJqPGNoT"
      },
      "source": [
        "df_user_behaviour_count = df_user_behaviour_count.droplevel(level=0, axis=1)"
      ],
      "execution_count": null,
      "outputs": []
    },
    {
      "cell_type": "code",
      "metadata": {
        "id": "pHFVzKFBJOni"
      },
      "source": [
        "df_user_behaviour_count.shape"
      ],
      "execution_count": null,
      "outputs": []
    },
    {
      "cell_type": "code",
      "metadata": {
        "id": "7AH4xDaRNBfh"
      },
      "source": [
        "df_user_behaviour_count = df_user_behaviour_count.fillna(0)"
      ],
      "execution_count": null,
      "outputs": []
    },
    {
      "cell_type": "code",
      "metadata": {
        "id": "sFeD-8pmOpKy"
      },
      "source": [
        "df_user_behaviour_count.groupby('pay').agg({'view': ['sum'], 'pay':['sum']})"
      ],
      "execution_count": null,
      "outputs": []
    },
    {
      "cell_type": "code",
      "metadata": {
        "id": "ugLvK9jDL-yw"
      },
      "source": [
        "d_p = {}\n",
        "for p in df_user_behaviour_count.pay.unique():\n",
        "    d_p[p] = df_user_behaviour_count[df_user_behaviour_count.pay == p].pay.sum()/df_user_behaviour_count[df_user_behaviour_count.pay == p].view.sum()"
      ],
      "execution_count": null,
      "outputs": []
    },
    {
      "cell_type": "code",
      "metadata": {
        "id": "CJQ6ivJNM7Hb"
      },
      "source": [
        "df_c_rate = pd.DataFrame([d_p]).T"
      ],
      "execution_count": null,
      "outputs": []
    },
    {
      "cell_type": "code",
      "metadata": {
        "id": "RxF_UWBVN-fZ"
      },
      "source": [
        "df_c_rate[df_c_rate<1].dropna().sort_index().plot(kind='box', title='pay than once')"
      ],
      "execution_count": null,
      "outputs": []
    },
    {
      "cell_type": "code",
      "metadata": {
        "id": "bmr65Wq-RHbJ"
      },
      "source": [
        "df_c_rate[df_c_rate<1].dropna().mean()"
      ],
      "execution_count": null,
      "outputs": []
    },
    {
      "cell_type": "code",
      "metadata": {
        "id": "x8c-FnCDGNsD"
      },
      "source": [
        "df_user_behaviour_count.query('pay==126').pay.sum()/df_user_behaviour_count.query('pay==126').view.sum()"
      ],
      "execution_count": null,
      "outputs": []
    },
    {
      "cell_type": "code",
      "metadata": {
        "id": "uX4HIPeMLoEn"
      },
      "source": [
        "df_user_behaviour_count.query('pay==1').pay.sum()/df_user_behaviour_count.query('pay==1').view.sum()"
      ],
      "execution_count": null,
      "outputs": []
    },
    {
      "cell_type": "code",
      "metadata": {
        "id": "jj4ZfY8bLrRQ"
      },
      "source": [
        "df_user_behaviour_count.query('pay==2').pay.sum()/df_user_behaviour_count.query('pay==2').view.sum()"
      ],
      "execution_count": null,
      "outputs": []
    },
    {
      "cell_type": "code",
      "metadata": {
        "id": "gGA7rnUSGNlQ"
      },
      "source": [
        "df_user_behaviour_count.query('booking<pay').pay.sum()/df_user_behaviour_count.query('booking<pay').view.sum()"
      ],
      "execution_count": null,
      "outputs": []
    },
    {
      "cell_type": "code",
      "metadata": {
        "id": "7Cur-cK0T0Wu"
      },
      "source": [
        "df_user_behaviour_count"
      ],
      "execution_count": null,
      "outputs": []
    },
    {
      "cell_type": "code",
      "metadata": {
        "id": "eTfO1pzv28s9"
      },
      "source": [
        "# 行為類別 (5)\n",
        "# home 觀看首頁 list 觀看商品列表 view 觀看產品頁 booking 下訂 pay 付款\n"
      ],
      "execution_count": null,
      "outputs": []
    },
    {
      "cell_type": "markdown",
      "metadata": {
        "id": "fQn9ykYxjpuJ"
      },
      "source": [
        "## CPC / CPA"
      ]
    },
    {
      "cell_type": "code",
      "metadata": {
        "id": "tW8kyFpckE30"
      },
      "source": [
        "df_change_rate"
      ],
      "execution_count": null,
      "outputs": []
    },
    {
      "cell_type": "code",
      "metadata": {
        "id": "KFZyakoQkFFI"
      },
      "source": [
        ""
      ],
      "execution_count": null,
      "outputs": []
    },
    {
      "cell_type": "code",
      "metadata": {
        "id": "SkNB_jWukFBm"
      },
      "source": [
        ""
      ],
      "execution_count": null,
      "outputs": []
    },
    {
      "cell_type": "code",
      "metadata": {
        "id": "Otj0EMmO3JRZ"
      },
      "source": [
        "df_action_daily_count = df_user_behaviour.groupby([pd.Grouper(key='action_time', freq='D'), 'action'])['member_id'].count()"
      ],
      "execution_count": null,
      "outputs": []
    },
    {
      "cell_type": "code",
      "metadata": {
        "id": "AH3eK4Cb7HjM"
      },
      "source": [
        "df_action_daily_count = df_action_daily_count.unstack()"
      ],
      "execution_count": null,
      "outputs": []
    },
    {
      "cell_type": "code",
      "metadata": {
        "id": "IWrT6U_f8htZ"
      },
      "source": [
        "# (df_action_daily_count.pay / df_action_daily_count.view).plot(cmap='Set3', figsize=(15,7), title='View to Pay')\n",
        "(df_action_daily_count.pay / df_action_daily_count.booking).plot(cmap='Set3', figsize=(15,7), title='Booking to Pay')"
      ],
      "execution_count": null,
      "outputs": []
    },
    {
      "cell_type": "code",
      "metadata": {
        "id": "MCgqJBWg3OEl"
      },
      "source": [
        "plt.figure(dpi=400, figsize=(15,7))\n",
        "df_action_daily_count.plot(kind='area', figsize=(15,7), \n",
        "                           cmap='Set3',\n",
        "                        #    stacked=False,\n",
        "                           )\n"
      ],
      "execution_count": null,
      "outputs": []
    },
    {
      "cell_type": "code",
      "metadata": {
        "id": "sRvnQeJGWr5H"
      },
      "source": [
        "plt.figure(dpi=400, figsize=(15,7))\n",
        "df_action_daily_count.plot()"
      ],
      "execution_count": null,
      "outputs": []
    },
    {
      "cell_type": "code",
      "metadata": {
        "id": "W-rWqeS7ZiZW"
      },
      "source": [
        "df_user_info.head()"
      ],
      "execution_count": null,
      "outputs": []
    },
    {
      "cell_type": "code",
      "metadata": {
        "id": "0zxqpSzZZRRB"
      },
      "source": [
        "df_user_info.groupby([pd.Grouper(key='create_date', freq='D')])['member_id'].count().sort_index()"
      ],
      "execution_count": null,
      "outputs": []
    },
    {
      "cell_type": "code",
      "metadata": {
        "id": "-YfgJViKDBfq"
      },
      "source": [
        "df_user_info.create_date.max()"
      ],
      "execution_count": null,
      "outputs": []
    },
    {
      "cell_type": "code",
      "metadata": {
        "id": "Ycs0NMQIDPzB"
      },
      "source": [
        "df_user_info"
      ],
      "execution_count": null,
      "outputs": []
    },
    {
      "cell_type": "code",
      "metadata": {
        "id": "7C-TKsdgUp6A"
      },
      "source": [
        "df_action_daily_count.corr()"
      ],
      "execution_count": null,
      "outputs": []
    },
    {
      "cell_type": "code",
      "metadata": {
        "id": "3OL8AJjc6sFt"
      },
      "source": [
        "# len(df_user_behaviour)"
      ],
      "execution_count": null,
      "outputs": []
    },
    {
      "cell_type": "code",
      "metadata": {
        "id": "Sl8qhi_W6S6k"
      },
      "source": [
        "df_user_info_action = pd.merge( df_user_behaviour, df_user_info, on='member_id')"
      ],
      "execution_count": null,
      "outputs": []
    },
    {
      "cell_type": "code",
      "metadata": {
        "id": "s9TzoyT2CUEb"
      },
      "source": [
        "df_user_info_action.create_date.max()"
      ],
      "execution_count": null,
      "outputs": []
    },
    {
      "cell_type": "code",
      "metadata": {
        "id": "TVGevcGG8KZE"
      },
      "source": [
        "df_user_info_action['m_age'] = (df_user_info_action.action_time.max() - df_user_info_action.create_date.dt.tz_localize('UTC')).dt.days\n"
      ],
      "execution_count": null,
      "outputs": []
    },
    {
      "cell_type": "code",
      "metadata": {
        "id": "yM29fwA_90lH"
      },
      "source": [
        "df_user_info_action.drop_duplicates(['member_id'])['m_age'].value_counts().plot(kind='hist', \n",
        "                                                                                cumulative=True, density=1, bins=30, cmap='gray',\n",
        "                                                                                title='Membership until 20191231')\n",
        "plt.ylabel('%')\n",
        "plt.xlabel('days')"
      ],
      "execution_count": null,
      "outputs": []
    },
    {
      "cell_type": "code",
      "metadata": {
        "id": "efjklm6q6eDs"
      },
      "source": [
        "(df_user_info_action.query('m_age<=365').shape[0] / len(df_user_info_action),\n",
        "df_user_info_action.query('730>m_age>365').shape[0] / len(df_user_info_action),\n",
        "df_user_info_action.query('m_age>730').shape[0] / len(df_user_info_action),\n",
        ")"
      ],
      "execution_count": null,
      "outputs": []
    },
    {
      "cell_type": "code",
      "metadata": {
        "id": "V1peW-Gl6eAu"
      },
      "source": [
        "df_user_info_action.groupby([pd.Grouper(key='action_time', freq='M'),'action','prod_id'])['action'].count()"
      ],
      "execution_count": null,
      "outputs": []
    },
    {
      "cell_type": "code",
      "metadata": {
        "id": "nY0pRMZ2BQFH"
      },
      "source": [
        "df_change_rate = _"
      ],
      "execution_count": null,
      "outputs": []
    },
    {
      "cell_type": "code",
      "metadata": {
        "id": "mT6-b4qLFLHK"
      },
      "source": [
        "df_change_rate = df_change_rate.unstack().unstack()"
      ],
      "execution_count": null,
      "outputs": []
    },
    {
      "cell_type": "code",
      "metadata": {
        "id": "Mcj0V_PPFyHO"
      },
      "source": [
        "df_change_rate.head()"
      ],
      "execution_count": null,
      "outputs": []
    },
    {
      "cell_type": "code",
      "metadata": {
        "id": "Jg_OchlVFyNs"
      },
      "source": [
        "df_change_rate_ = (df_change_rate.xs(key='pay',level=1, axis=1)/df_change_rate.xs(key='view',level=1, axis=1))"
      ],
      "execution_count": null,
      "outputs": []
    },
    {
      "cell_type": "code",
      "metadata": {
        "id": "IavEn7G7FyKf"
      },
      "source": [
        "df_change_rate_.dropna(axis=1).max()"
      ],
      "execution_count": null,
      "outputs": []
    },
    {
      "cell_type": "markdown",
      "metadata": {
        "id": "8B6NXk6VPmzG"
      },
      "source": [
        "##  Retention Rate"
      ]
    },
    {
      "cell_type": "code",
      "metadata": {
        "id": "a3_w-S8NKdLm"
      },
      "source": [
        "\n",
        "import pandas as pd\n",
        "import matplotlib.pyplot as plt\n",
        "import warnings\n",
        "import seaborn as sns\n",
        "from operator import attrgetter\n",
        "import matplotlib.colors as mcolors"
      ],
      "execution_count": null,
      "outputs": []
    },
    {
      "cell_type": "code",
      "metadata": {
        "id": "W_CRXldGFyAO"
      },
      "source": [
        "# df_user_info_pay = df_user_info_action.query('action==\"pay\"')\n"
      ],
      "execution_count": null,
      "outputs": []
    },
    {
      "cell_type": "code",
      "metadata": {
        "id": "mFyuVuyySkPC"
      },
      "source": [
        "# df_user_info_pay.head()"
      ],
      "execution_count": null,
      "outputs": []
    },
    {
      "cell_type": "code",
      "metadata": {
        "id": "TQmNsm2zT2Rc"
      },
      "source": [
        "# df_booking"
      ],
      "execution_count": null,
      "outputs": []
    },
    {
      "cell_type": "code",
      "metadata": {
        "id": "acr8hoBMR3RD"
      },
      "source": [
        "n_orders = df_booking.groupby(['member_id'])['order_id'].nunique()\n",
        "mult_orders_perc = np.sum(n_orders > 1) / df_booking['member_id'].nunique()\n",
        "print(f'{100 * mult_orders_perc:.2f}% of customers ordered more than once.')"
      ],
      "execution_count": null,
      "outputs": []
    },
    {
      "cell_type": "code",
      "metadata": {
        "id": "AkKO244tV8oy"
      },
      "source": [
        "n_orders.sort_values()"
      ],
      "execution_count": null,
      "outputs": []
    },
    {
      "cell_type": "code",
      "metadata": {
        "id": "w_R9DWGfL19_"
      },
      "source": [
        "ax = sns.distplot(n_orders, kde=False, hist=True)\n",
        "ax.set(title='Distribution of number of orders per customer',\n",
        "       xlabel='# of orders', \n",
        "       ylabel='# of customers');"
      ],
      "execution_count": null,
      "outputs": []
    },
    {
      "cell_type": "code",
      "metadata": {
        "id": "W-aTAW_INNvU"
      },
      "source": [
        ""
      ],
      "execution_count": null,
      "outputs": []
    },
    {
      "cell_type": "code",
      "metadata": {
        "id": "lPGvxvKxL2CI"
      },
      "source": [
        "df_booking_cum = df_booking.query('order_status==\"BACK\"').groupby('member_id').agg({'revenue':sum, 'order_id':'count'}).sort_values('order_id')\n",
        "# 訂單狀態 (3) \n",
        "# BACK 完成 FAIL 交易失敗 CX 取消\n"
      ],
      "execution_count": null,
      "outputs": []
    },
    {
      "cell_type": "code",
      "metadata": {
        "id": "UsghhwxPNxCM"
      },
      "source": [
        "df_booking_cum['revenue_cum_pct'] = round(df_booking_cum.revenue.cumsum()/df_booking_cum.revenue.sum(),6)"
      ],
      "execution_count": null,
      "outputs": []
    },
    {
      "cell_type": "code",
      "metadata": {
        "id": "I_NtVv4NORo6"
      },
      "source": [
        "df_booking_cum.query('order_id==1').shape[0]/ len(df_booking_cum)"
      ],
      "execution_count": null,
      "outputs": []
    },
    {
      "cell_type": "code",
      "metadata": {
        "id": "jRW6O_J4QOwb"
      },
      "source": [
        "df_booking_cum.query('order_id==1')"
      ],
      "execution_count": null,
      "outputs": []
    },
    {
      "cell_type": "code",
      "metadata": {
        "id": "dlXg9Xatb19C"
      },
      "source": [
        ""
      ],
      "execution_count": null,
      "outputs": []
    },
    {
      "cell_type": "code",
      "metadata": {
        "id": "_87K1mrTU6U5"
      },
      "source": [
        "# df_booking.query('create_date>back_date').shape[0]/ df_booking.shape[0]"
      ],
      "execution_count": null,
      "outputs": []
    },
    {
      "cell_type": "code",
      "metadata": {
        "id": "NhGd-1KMagCa"
      },
      "source": [
        "# df_booking.query('back_date>go_date').shape[0]/ df_booking.shape[0]"
      ],
      "execution_count": null,
      "outputs": []
    },
    {
      "cell_type": "code",
      "metadata": {
        "id": "4EFdarIEdXdG"
      },
      "source": [
        "# df['order_month'] = df['InvoiceDate'].dt.to_period('M')\n",
        "# df['cohort'] = df.groupby('CustomerID')['InvoiceDate'] \\\n",
        "#                  .transform('min') \\\n",
        "#                  .dt.to_period('M') "
      ],
      "execution_count": null,
      "outputs": []
    },
    {
      "cell_type": "code",
      "metadata": {
        "id": "yE52u5AYZo2_"
      },
      "source": [
        "df_booking = pd.merge(df_user_info[['member_id', 'create_date']],\n",
        "                      df_booking, on=\"member_id\",\n",
        "                      suffixes=('_sing_up', '_booking'))"
      ],
      "execution_count": null,
      "outputs": []
    },
    {
      "cell_type": "code",
      "metadata": {
        "id": "JoZZarwKWNIL"
      },
      "source": [
        "df_booking.columns"
      ],
      "execution_count": null,
      "outputs": []
    },
    {
      "cell_type": "code",
      "metadata": {
        "id": "ezID7alGSWvf"
      },
      "source": [
        "df_booking['order_month'] = df_booking.create_date_booking.dt.to_period('M')\n",
        "# ['back_date'].dt.to_period('M')\n",
        "\n",
        "\n"
      ],
      "execution_count": null,
      "outputs": []
    },
    {
      "cell_type": "code",
      "metadata": {
        "id": "-O9oSleYUI1y"
      },
      "source": [
        "df_booking['cohort'] = df_booking.groupby('member_id')['create_date_booking'] \\\n",
        "                 .transform('min') \\\n",
        "                 .dt.to_period('M')"
      ],
      "execution_count": null,
      "outputs": []
    },
    {
      "cell_type": "code",
      "metadata": {
        "id": "qD4FqQ0gcLcm"
      },
      "source": [
        "df_booking.query('create_date_sing_up>\"2020\"')\n",
        "# df_user_info.query('create_date>\"2020\"')"
      ],
      "execution_count": null,
      "outputs": []
    },
    {
      "cell_type": "code",
      "metadata": {
        "id": "6JvwZZZ5TxnM"
      },
      "source": [
        "\n",
        "df_cohort = df_booking.groupby(['cohort', 'order_month']) \\\n",
        "              .agg(n_customers=('member_id', 'nunique')) \\\n",
        "              .reset_index(drop=False)"
      ],
      "execution_count": null,
      "outputs": []
    },
    {
      "cell_type": "code",
      "metadata": {
        "id": "Tk4X6GsVSWZZ"
      },
      "source": [
        "df_cohort.head()"
      ],
      "execution_count": null,
      "outputs": []
    },
    {
      "cell_type": "code",
      "metadata": {
        "id": "C3sFx1VlUaDN"
      },
      "source": [
        "df_cohort['period_number'] = (df_cohort.order_month - df_cohort.cohort).apply(attrgetter('n'))\n"
      ],
      "execution_count": null,
      "outputs": []
    },
    {
      "cell_type": "code",
      "metadata": {
        "id": "VyhyyWzvUcvg"
      },
      "source": [
        "df_cohort"
      ],
      "execution_count": null,
      "outputs": []
    },
    {
      "cell_type": "code",
      "metadata": {
        "id": "92ayoDBWV8Pc"
      },
      "source": [
        "\n",
        "cohort_pivot = df_cohort.pivot_table(index = 'cohort',\n",
        "                                     columns = 'period_number',\n",
        "                                     values = 'n_customers')"
      ],
      "execution_count": null,
      "outputs": []
    },
    {
      "cell_type": "code",
      "metadata": {
        "id": "6TcWoBT2VhWr"
      },
      "source": [
        "cohort_pivot"
      ],
      "execution_count": null,
      "outputs": []
    },
    {
      "cell_type": "code",
      "metadata": {
        "id": "_hGkbPKwVhaB"
      },
      "source": [
        "cohort_size = cohort_pivot.iloc[:,0]\n",
        "retention_matrix = cohort_pivot.divide(cohort_size, axis = 0)"
      ],
      "execution_count": null,
      "outputs": []
    },
    {
      "cell_type": "code",
      "metadata": {
        "id": "uQZOpvozc7iN"
      },
      "source": [
        "with sns.axes_style(\"white\"):\n",
        "    fig, ax = plt.subplots(1, 2, figsize=(12, 8), sharey=True, gridspec_kw={'width_ratios': [1, 11]})\n",
        "    \n",
        "    # retention matrix\n",
        "    sns.heatmap(retention_matrix, \n",
        "                mask=retention_matrix.isnull(), \n",
        "                annot=True, \n",
        "                fmt='.0%', \n",
        "                cmap='RdYlGn', \n",
        "                ax=ax[1])\n",
        "    ax[1].set_title('Monthly Cohorts: User Retention', fontsize=16)\n",
        "    ax[1].set(xlabel='# of periods',\n",
        "              ylabel='')\n",
        "\n",
        "    # cohort size\n",
        "    cohort_size_df = pd.DataFrame(cohort_size).rename(columns={0: 'cohort_size'})\n",
        "    white_cmap = mcolors.ListedColormap(['white'])\n",
        "    sns.heatmap(cohort_size_df, \n",
        "                annot=True, \n",
        "                cbar=False, \n",
        "                fmt='g', \n",
        "                cmap=white_cmap, \n",
        "                ax=ax[0])\n",
        "\n",
        "    fig.tight_layout()"
      ],
      "execution_count": null,
      "outputs": []
    },
    {
      "cell_type": "code",
      "metadata": {
        "id": "XsTCJgiVjtoQ"
      },
      "source": [
        "df_booking.order_month.value_counts()"
      ],
      "execution_count": null,
      "outputs": []
    },
    {
      "cell_type": "code",
      "metadata": {
        "id": "UE-y9Mh6dCJ7"
      },
      "source": [
        "grouped = df_booking.groupby(['cohort', 'order_month'])\n",
        "\n",
        "# count the unique users, orders, and total revenue per Group + Period\n",
        "cohorts = grouped.agg({'member_id': pd.Series.nunique,\n",
        "                       'order_id': pd.Series.nunique,\n",
        "                       'revenue': np.sum})\n"
      ],
      "execution_count": null,
      "outputs": []
    },
    {
      "cell_type": "code",
      "metadata": {
        "id": "bzYFzFwBjtzi"
      },
      "source": [
        "cohorts.rename(columns={'member_id': 'TotalUsers',\n",
        "                        'order_id': 'TotalOrders'}, inplace=True)\n",
        "cohorts.head()"
      ],
      "execution_count": null,
      "outputs": []
    },
    {
      "cell_type": "code",
      "metadata": {
        "id": "gWoWcJ59jtv5"
      },
      "source": [
        "\n",
        "def cohort_period(df):\n",
        "    \"\"\"\n",
        "    Creates a `CohortPeriod` column, which is the Nth period based on the user's first purchase.\n",
        "    \n",
        "    Example\n",
        "    -------\n",
        "    Say you want to get the 3rd month for every user:\n",
        "        df.sort(['UserId', 'OrderTime', inplace=True)\n",
        "        df = df.groupby('UserId').apply(cohort_period)\n",
        "        df[df.CohortPeriod == 3]\n",
        "    \"\"\"\n",
        "    df['CohortPeriod'] = np.arange(len(df)) + 1\n",
        "    return df\n",
        "\n",
        "cohorts = cohorts.groupby(level=0).apply(cohort_period)\n",
        "cohorts.head()"
      ],
      "execution_count": null,
      "outputs": []
    },
    {
      "cell_type": "code",
      "metadata": {
        "id": "-AN_jV0fIGQ3"
      },
      "source": [
        "# reindex the DataFrame\n",
        "cohorts.reset_index(inplace=True)\n",
        "cohorts.set_index(['cohort', 'CohortPeriod'], inplace=True)\n",
        "\n",
        "# create a Series holding the total size of each CohortGroup\n",
        "cohort_group_size = cohorts['TotalUsers'].groupby(level=0).first()\n",
        "cohort_group_size.head()"
      ],
      "execution_count": null,
      "outputs": []
    },
    {
      "cell_type": "code",
      "metadata": {
        "id": "WYzUJpSoIGUH"
      },
      "source": [
        "cohorts['TotalUsers'].head()\n"
      ],
      "execution_count": null,
      "outputs": []
    },
    {
      "cell_type": "code",
      "metadata": {
        "id": "B2mL82dMJbEb"
      },
      "source": [
        "cohorts['TotalUsers'].unstack(0).head()\n"
      ],
      "execution_count": null,
      "outputs": []
    },
    {
      "cell_type": "code",
      "metadata": {
        "id": "RWmH_g7QJbIK"
      },
      "source": [
        "user_retention = cohorts['TotalUsers'].unstack(0).divide(cohort_group_size, axis=1)\n",
        "user_retention.head(10)"
      ],
      "execution_count": null,
      "outputs": []
    },
    {
      "cell_type": "code",
      "metadata": {
        "id": "dwkFpOEnJj85"
      },
      "source": [
        "user_retention.iloc[:,:].plot(figsize=(10,5))\n",
        "plt.title('Cohorts: User Retention')\n",
        "plt.xticks(np.arange(1, 12.1, 1))\n",
        "plt.xlim(1, 12)\n",
        "plt.ylabel('% of Cohort Purchasing');"
      ],
      "execution_count": null,
      "outputs": []
    },
    {
      "cell_type": "code",
      "metadata": {
        "id": "UV5hQffIJkBE"
      },
      "source": [
        "# Creating heatmaps in matplotlib is more difficult than it should be.\n",
        "# Thankfully, Seaborn makes them easy for us.\n",
        "# http://stanford.edu/~mwaskom/software/seaborn/\n",
        "\n",
        "import seaborn as sns\n",
        "sns.set(style='white')\n",
        "\n",
        "plt.figure(figsize=(12, 8))\n",
        "plt.title('Cohorts: User Retention')\n",
        "sns.heatmap(user_retention.T, mask=user_retention.T.isnull(), annot=True, fmt='.0%');\n"
      ],
      "execution_count": null,
      "outputs": []
    },
    {
      "cell_type": "markdown",
      "metadata": {
        "id": "NoIUFhY318pN"
      },
      "source": [
        "## RFM model"
      ]
    },
    {
      "cell_type": "code",
      "metadata": {
        "id": "WucBIY9RKLjJ"
      },
      "source": [
        "from datetime import timedelta\n",
        "import numpy as np\n",
        "import seaborn as sns\n",
        "import matplotlib.pyplot as plt"
      ],
      "execution_count": null,
      "outputs": []
    },
    {
      "cell_type": "code",
      "metadata": {
        "id": "h5lHeoswKVi6"
      },
      "source": [
        "df_booking['create_date'] = pd.to_datetime(df_booking['create_date'])\n",
        "df_booking['go_date'] = pd.to_datetime(df_booking['go_date'])\n",
        "df_booking['back_date'] = pd.to_datetime(df_booking['back_date'])\n"
      ],
      "execution_count": null,
      "outputs": []
    },
    {
      "cell_type": "code",
      "metadata": {
        "id": "xrmdQuR9JRGQ"
      },
      "source": [
        "df_booking_ = df_booking.query('order_status==\"BACK\"')"
      ],
      "execution_count": null,
      "outputs": []
    },
    {
      "cell_type": "code",
      "metadata": {
        "id": "8hudNbfbR8cc"
      },
      "source": [
        "df_booking_"
      ],
      "execution_count": null,
      "outputs": []
    },
    {
      "cell_type": "code",
      "metadata": {
        "id": "so7KZCe51-EI"
      },
      "source": [
        "snapshot_date = df_booking_['back_date'].max() + timedelta(days=1)"
      ],
      "execution_count": null,
      "outputs": []
    },
    {
      "cell_type": "code",
      "metadata": {
        "id": "023gdt_sJhHz"
      },
      "source": [
        "snapshot_date"
      ],
      "execution_count": null,
      "outputs": []
    },
    {
      "cell_type": "code",
      "metadata": {
        "id": "3y_1cXajKotq"
      },
      "source": [
        "data_process = df_booking_.groupby(['member_id']).agg({\n",
        "        'back_date': lambda x: (snapshot_date - x.max()).days,\n",
        "        'member_id': 'count',\n",
        "        # 'price': np.mean,\n",
        "        'revenue': 'sum',\n",
        "        })"
      ],
      "execution_count": null,
      "outputs": []
    },
    {
      "cell_type": "code",
      "metadata": {
        "id": "PjySVBvtLyK0"
      },
      "source": [
        "data_process.columns = ['Recency', 'Frequency', 'MonetaryValue']"
      ],
      "execution_count": null,
      "outputs": []
    },
    {
      "cell_type": "code",
      "metadata": {
        "id": "bOy9dtiMAzL-"
      },
      "source": [
        "df_product_detail.shape[0]"
      ],
      "execution_count": null,
      "outputs": []
    },
    {
      "cell_type": "code",
      "metadata": {
        "id": "oZZzS5Fw-_DF"
      },
      "source": [
        "df_product_detail_ = df_product_detail[['country_cd', 'tags_small', 'prod_oid']]"
      ],
      "execution_count": null,
      "outputs": []
    },
    {
      "cell_type": "code",
      "metadata": {
        "id": "yfVsbKlY_ipe"
      },
      "source": [
        "df_booking_with_tag = pd.merge(df_booking_, df_product_detail_, left_on='prod_id', right_on='prod_oid')"
      ],
      "execution_count": null,
      "outputs": []
    },
    {
      "cell_type": "code",
      "metadata": {
        "id": "iAgMy2BYAzsz"
      },
      "source": [
        "list_buy_once = data_process.query('Frequency==1').index.to_list()\n",
        "list_buy_more = data_process.query('Frequency>1').index.to_list()"
      ],
      "execution_count": null,
      "outputs": []
    },
    {
      "cell_type": "code",
      "metadata": {
        "id": "Z_KWWxhwW9r1"
      },
      "source": [
        "len(list_buy_once)"
      ],
      "execution_count": null,
      "outputs": []
    },
    {
      "cell_type": "code",
      "metadata": {
        "id": "J1YrB7JF_iuq"
      },
      "source": [
        "pd.DataFrame([df_booking_with_tag.query('member_id in @list_buy_once').country_cd\t.value_counts().head(10),\n",
        "df_booking_with_tag.query('member_id in @list_buy_more').country_cd\t.value_counts().head(10)])"
      ],
      "execution_count": null,
      "outputs": []
    },
    {
      "cell_type": "code",
      "metadata": {
        "id": "scWiPtKpDF6B"
      },
      "source": [
        "pd.DataFrame([df_booking_with_tag.query('member_id in @list_buy_once').tags_small.value_counts().head(10),\n",
        "df_booking_with_tag.query('member_id in @list_buy_more').tags_small.value_counts().head(10)])"
      ],
      "execution_count": null,
      "outputs": []
    },
    {
      "cell_type": "code",
      "metadata": {
        "id": "GPxJtZVMAvLb"
      },
      "source": [
        "data_process.MonetaryValue.sum()\n",
        "data_process.query('member_id!=\"02b9cb9205642a8d043b2e27ce240713\"').MonetaryValue.sum()"
      ],
      "execution_count": null,
      "outputs": []
    },
    {
      "cell_type": "code",
      "metadata": {
        "id": "TpcwsoGjeALN"
      },
      "source": [
        "data_process.query('Frequency==1').MonetaryValue.sum()\n",
        "data_process.query('member_id!=\"02b9cb9205642a8d043b2e27ce240713\"').query('Frequency==1').MonetaryValue.sum()"
      ],
      "execution_count": null,
      "outputs": []
    },
    {
      "cell_type": "code",
      "metadata": {
        "id": "3yTUcEcrx023"
      },
      "source": [
        "data_process.query('member_id!=\"02b9cb9205642a8d043b2e27ce240713\"').query('Frequency==1').MonetaryValue.sum()/data_process.query('member_id!=\"02b9cb9205642a8d043b2e27ce240713\"').MonetaryValue.sum()"
      ],
      "execution_count": null,
      "outputs": []
    },
    {
      "cell_type": "code",
      "metadata": {
        "id": "Udd3IhlILH-M"
      },
      "source": [
        "data_process.query('Frequency>=2').MonetaryValue.sum()/data_process.MonetaryValue.sum()\n",
        "data_process.query('member_id!=\"02b9cb9205642a8d043b2e27ce240713\"').query('Frequency>=2').MonetaryValue.sum()/data_process.query('member_id!=\"02b9cb9205642a8d043b2e27ce240713\"').MonetaryValue.sum()"
      ],
      "execution_count": null,
      "outputs": []
    },
    {
      "cell_type": "code",
      "metadata": {
        "id": "ZBBChT-kc5K7"
      },
      "source": [
        "data_process.query('Frequency>=3').MonetaryValue.sum()/data_process.MonetaryValue.sum()\n",
        "data_process.query('member_id!=\"02b9cb9205642a8d043b2e27ce240713\"').query('Frequency>=3').MonetaryValue.sum()/data_process.query('member_id!=\"02b9cb9205642a8d043b2e27ce240713\"').MonetaryValue.sum()"
      ],
      "execution_count": null,
      "outputs": []
    },
    {
      "cell_type": "code",
      "metadata": {
        "id": "npxxPhnuSFX2"
      },
      "source": [
        "data_process.query('Frequency>=2').shape[0]/data_process.shape[0]"
      ],
      "execution_count": null,
      "outputs": []
    },
    {
      "cell_type": "code",
      "metadata": {
        "id": "RN9qNMuDkMrf"
      },
      "source": [
        "data_process.sort_values(by='MonetaryValue')\n"
      ],
      "execution_count": null,
      "outputs": []
    },
    {
      "cell_type": "code",
      "metadata": {
        "id": "tp-XfBX9rxhj"
      },
      "source": [
        "df_user_info.query('member_id==\"02b9cb9205642a8d043b2e27ce240713\"')"
      ],
      "execution_count": null,
      "outputs": []
    },
    {
      "cell_type": "code",
      "metadata": {
        "id": "1S5SjPZJsZMt"
      },
      "source": [
        "df_booking_2019 = pd.merge(df_booking_, df_product_detail_, left_on='prod_id', right_on='prod_oid')"
      ],
      "execution_count": null,
      "outputs": []
    },
    {
      "cell_type": "code",
      "metadata": {
        "id": "bdwIWpXJr-lS"
      },
      "source": [
        "df_booking_2019.query('member_id==\"02b9cb9205642a8d043b2e27ce240713\"').sort_values(by='revenue')"
      ],
      "execution_count": null,
      "outputs": []
    },
    {
      "cell_type": "code",
      "metadata": {
        "id": "7zkBBWjDtSev"
      },
      "source": [
        "df_booking_.query('member_id!=\"02b9cb9205642a8d043b2e27ce240713\"').sort_values(by='revenue')"
      ],
      "execution_count": null,
      "outputs": []
    },
    {
      "cell_type": "code",
      "metadata": {
        "id": "Vg5g0ewLdB7l"
      },
      "source": [
        "# df_money_per_freq = data_process.groupby('Frequency').agg({'MonetaryValue':'sum'})\n",
        "df_money_per_freq = data_process.query('member_id!=\"02b9cb9205642a8d043b2e27ce240713\"').groupby('Frequency').agg({'MonetaryValue':'sum'})\n",
        "\n",
        "# .plot(kind='bar')"
      ],
      "execution_count": null,
      "outputs": []
    },
    {
      "cell_type": "code",
      "metadata": {
        "id": "hZrxQ1tTxHLp"
      },
      "source": [
        "pd.options.display.float_format = \"{:.2f}\".format"
      ],
      "execution_count": null,
      "outputs": []
    },
    {
      "cell_type": "code",
      "metadata": {
        "id": "03O9tlg-tj69"
      },
      "source": [
        "df_money_per_freq.sum()"
      ],
      "execution_count": null,
      "outputs": []
    },
    {
      "cell_type": "code",
      "metadata": {
        "id": "6g_d1v-Agm__"
      },
      "source": [
        "(df_money_per_freq/df_money_per_freq.sum()).plot(kind='bar', rot=90, figsize=(15,7), ylabel='%', title='Rate of revenue per freq')"
      ],
      "execution_count": null,
      "outputs": []
    },
    {
      "cell_type": "code",
      "metadata": {
        "id": "7B6TFv-9jVrD"
      },
      "source": [
        "(df_money_per_freq).plot(kind='bar', rot=90, figsize=(15,7), ylabel='$', title='revenue per freq')"
      ],
      "execution_count": null,
      "outputs": []
    },
    {
      "cell_type": "code",
      "metadata": {
        "id": "-0mlTh-MgDCG"
      },
      "source": [
        " sns.barplot(x=df_money_per_freq.index, y=\"MonetaryValue\", data=df_money_per_freq,\n",
        "                 palette=\"Blues_d\")"
      ],
      "execution_count": null,
      "outputs": []
    },
    {
      "cell_type": "code",
      "metadata": {
        "id": "x77UvZ7IgE3t"
      },
      "source": [
        "data_process"
      ],
      "execution_count": null,
      "outputs": []
    },
    {
      "cell_type": "code",
      "metadata": {
        "id": "tEYn0mLugE7n"
      },
      "source": [
        " "
      ],
      "execution_count": null,
      "outputs": []
    },
    {
      "cell_type": "code",
      "metadata": {
        "id": "E4tQ4CpvMEQ8"
      },
      "source": [
        "plt.figure(figsize=(12,10))\n",
        "# Plot distribution of R\n",
        "plt.subplot(3, 1, 1); sns.distplot(data_process['Recency'])\n",
        "# Plot distribution of F\n",
        "plt.subplot(3, 1, 2); sns.distplot(np.log2(data_process['Frequency']))\n",
        "# Plot distribution of M\n",
        "plt.subplot(3, 1, 3); sns.distplot(np.log2(data_process['MonetaryValue']))\n",
        "# Show the plot\n",
        "plt.show()"
      ],
      "execution_count": null,
      "outputs": []
    },
    {
      "cell_type": "code",
      "metadata": {
        "id": "VYsUtMPiDkEX"
      },
      "source": [
        "2**27"
      ],
      "execution_count": null,
      "outputs": []
    },
    {
      "cell_type": "code",
      "metadata": {
        "id": "4K4Kik89DMzA"
      },
      "source": [
        "np.log( )"
      ],
      "execution_count": null,
      "outputs": []
    },
    {
      "cell_type": "code",
      "metadata": {
        "id": "N1BFkSnjNv4m"
      },
      "source": [
        "data_process.describe()"
      ],
      "execution_count": null,
      "outputs": []
    },
    {
      "cell_type": "code",
      "metadata": {
        "id": "-LUqhUh4FRJM"
      },
      "source": [
        "data_process['Frequency'].plot(kind='box')\n"
      ],
      "execution_count": null,
      "outputs": []
    },
    {
      "cell_type": "code",
      "metadata": {
        "id": "9rXxxoufOZYp"
      },
      "source": [
        "# Create labels for Recency and Frequency\n",
        "r_labels = range(4, 0, -1); f_labels = range(1, 5)\n",
        "# Assign these labels to 4 equal percentile groups \n",
        "r_groups = pd.qcut(data_process['Recency'], q=4, labels=r_labels)\n",
        "# Assign these labels to 4 equal percentile groups \n",
        "cut_bins = [0, 1, 2, 3, 13631]\n",
        "# f_groups = pd.qcut(data_process['Frequency'].rank(method='first'), q=4, labels=f_labels, precision= 10)\n",
        "f_groups = pd.cut(data_process['Frequency'], bins=cut_bins, labels=[1,2,3,4] )\n",
        "\n",
        "# Create new columns R and F \n",
        "data_process = data_process.assign(R = r_groups.values, F = f_groups.values)\n",
        "data_process.head()\n",
        "\n",
        "# https://stackoverflow.com/questions/35183921/pandas-qcut-not-putting-equal-number-of-observations-into-each-bin"
      ],
      "execution_count": null,
      "outputs": []
    },
    {
      "cell_type": "code",
      "metadata": {
        "id": "47vvNbciNwKx"
      },
      "source": [
        "# data_process['Frequency'].value_counts().cumsum()/data_process['Frequency'].value_counts().sum()"
      ],
      "execution_count": null,
      "outputs": []
    },
    {
      "cell_type": "code",
      "metadata": {
        "id": "YpFIedKjHX97"
      },
      "source": [
        "# Create labels for MonetaryValue\n",
        "m_labels = range(1, 5)\n",
        "# Assign these labels to three equal percentile groups \n",
        "m_groups = pd.qcut(data_process['MonetaryValue'], q=4, labels=m_labels)\n",
        "# Create new column M\n",
        "data_process = data_process.assign(M = m_groups.values)"
      ],
      "execution_count": null,
      "outputs": []
    },
    {
      "cell_type": "code",
      "metadata": {
        "id": "wyzvTNWVIfyK"
      },
      "source": [
        "# Concat RFM quartile values to create RFM Segments\n",
        "def join_rfm(x):\n",
        "     return str(x['R']) + str(x['F']) + str(x['M'])\n",
        "     "
      ],
      "execution_count": null,
      "outputs": []
    },
    {
      "cell_type": "code",
      "metadata": {
        "id": "evo2seckI1uE"
      },
      "source": [
        "data_process['RFM_Segment_Concat'] = data_process.apply(join_rfm, axis=1)\n"
      ],
      "execution_count": null,
      "outputs": []
    },
    {
      "cell_type": "code",
      "metadata": {
        "id": "UOVWttyMI2EH"
      },
      "source": [
        "df_rfm = data_process.copy()\n"
      ],
      "execution_count": null,
      "outputs": []
    },
    {
      "cell_type": "code",
      "metadata": {
        "id": "HLFUlwhWZJrp"
      },
      "source": [
        "df_rfm.head()"
      ],
      "execution_count": null,
      "outputs": []
    },
    {
      "cell_type": "code",
      "metadata": {
        "id": "_3i68vLKI5A2"
      },
      "source": [
        "df_rfm.query('F==3')"
      ],
      "execution_count": null,
      "outputs": []
    },
    {
      "cell_type": "code",
      "metadata": {
        "id": "zMyIoYkSJ9op"
      },
      "source": [
        "rfm_count_unique =df_rfm.groupby('RFM_Segment_Concat')['RFM_Segment_Concat'].nunique()\n",
        "print(rfm_count_unique.sum())"
      ],
      "execution_count": null,
      "outputs": []
    },
    {
      "cell_type": "code",
      "metadata": {
        "id": "XOKpE8vQQiJb"
      },
      "source": [
        "df_rfm['RFM_Score'] = df_rfm[['R','F','M']].sum(axis=1)\n",
        "print(df_rfm['RFM_Score'].head())"
      ],
      "execution_count": null,
      "outputs": []
    },
    {
      "cell_type": "code",
      "metadata": {
        "id": "z3wB-Xv7Qktt"
      },
      "source": [
        "def rfm_level(df):\n",
        "    if df['RFM_Score'] >= 9:\n",
        "        return 'Can\\'t Loose Them'\n",
        "    elif ((df['RFM_Score'] >= 8) and (df['RFM_Score'] < 9)):\n",
        "        return 'Champions'\n",
        "    elif ((df['RFM_Score'] >= 7) and (df['RFM_Score'] < 8)):\n",
        "        return 'Loyal'\n",
        "    elif ((df['RFM_Score'] >= 6) and (df['RFM_Score'] < 7)):\n",
        "        return 'Potential'\n",
        "    elif ((df['RFM_Score'] >= 5) and (df['RFM_Score'] < 6)):\n",
        "        return 'Promising'\n",
        "    elif ((df['RFM_Score'] >= 4) and (df['RFM_Score'] < 5)):\n",
        "        return 'Needs Attention'\n",
        "    else:\n",
        "        return 'Require Activation'\n"
      ],
      "execution_count": null,
      "outputs": []
    },
    {
      "cell_type": "code",
      "metadata": {
        "id": "LVE4FWWneuDM"
      },
      "source": [
        "# df_rfm['RFM_Segment_Concat'] = df_rfm['RFM_Segment_Concat'].astype('str')"
      ],
      "execution_count": null,
      "outputs": []
    },
    {
      "cell_type": "code",
      "metadata": {
        "id": "M57nrI-9dnos"
      },
      "source": [
        "# def rfm_level(df):\n",
        "#     if df['RFM_Segment_Concat'] in ['344', '444', '434']:\n",
        "#         return 'Best Customers'\n",
        "#     # elif df[(df['R']>=3) & (df['F']>=3) & (df['M']<=3) ]:\n",
        "#     elif df['RFM_Segment_Concat'] in ['431', '432','433' ,'331', '332', '333']:\n",
        "#         return 'Loyal Customers'\n",
        "#     elif df['RFM_Segment_Concat'] in ['144', '244']:\n",
        "#         return 'Churning Customer'\n",
        "#     elif df['M']==4:\n",
        "#         # (df['RFM_Segment_Concat'] not in ['344', '444', '434']) &\n",
        "#         return 'Big Spenders'\n",
        "#     elif df['RFM_Segment_Concat'] in ['441', '341', '241', '141', '431', '331']:\n",
        "#         return 'Low value Lost Customers'\n",
        "#     elif 424>=int(df['RFM_Segment_Concat'])>=411 :\n",
        "#         return 'New Customer'\n",
        "#     else:\n",
        "#         return 'Require Activation'"
      ],
      "execution_count": null,
      "outputs": []
    },
    {
      "cell_type": "code",
      "metadata": {
        "id": "JGJmUKul-Rd8"
      },
      "source": [
        "# df_rfm[(df_rfm['RFM_Segment_Concat'] not in ['344', '444', '434']) & (df_rfm['M']==4)]"
      ],
      "execution_count": null,
      "outputs": []
    },
    {
      "cell_type": "code",
      "metadata": {
        "id": "lOoPnixlqUlg"
      },
      "source": [
        "# df_rfm[(df_rfm['R']>=3) & (df_rfm['F']>=3) & (df_rfm['M']<=3)]['RFM_Level'] = \"Loyal Customers\""
      ],
      "execution_count": null,
      "outputs": []
    },
    {
      "cell_type": "code",
      "metadata": {
        "id": "7zdGy_JCQxif"
      },
      "source": [
        "# Create a new variable RFM_Level\n",
        "df_rfm['RFM_Level'] = df_rfm.apply(rfm_level, axis=1)\n",
        "# Print the header with top 5 rows to the console\n",
        "df_rfm.head()"
      ],
      "execution_count": null,
      "outputs": []
    },
    {
      "cell_type": "code",
      "metadata": {
        "id": "x19w5hVo5T6K"
      },
      "source": [
        "(df_rfm.groupby('RFM_Score').RFM_Score.count()/df_rfm.groupby('RFM_Score').RFM_Score.count().sum()).plot(kind='bar', \n",
        "                                                                                                         title='RFM score distribution',\n",
        "                                                                                                         cmap='Set3',\n",
        "                                                                                                         )"
      ],
      "execution_count": null,
      "outputs": []
    },
    {
      "cell_type": "code",
      "metadata": {
        "id": "OFX8R9SX6YR5"
      },
      "source": [
        "(df_rfm.groupby('RFM_Score').RFM_Score.count()/df_rfm.groupby('RFM_Score').RFM_Score.count().sum())"
      ],
      "execution_count": null,
      "outputs": []
    },
    {
      "cell_type": "code",
      "metadata": {
        "id": "q92g3WVBAQpn"
      },
      "source": [
        "df_rfm_ = df_rfm.query('member_id!=\"02b9cb9205642a8d043b2e27ce240713\"')"
      ],
      "execution_count": null,
      "outputs": []
    },
    {
      "cell_type": "code",
      "metadata": {
        "id": "z3n7MZGEOv2v"
      },
      "source": [
        "df_rfm_.head()"
      ],
      "execution_count": null,
      "outputs": []
    },
    {
      "cell_type": "code",
      "metadata": {
        "id": "GzbayIwG4UlG"
      },
      "source": [
        "# df_rfm_.query('RFM_Score>=9').shape[0]/df_rfm.shape[0]\n",
        "# df_rfm_.query('RFM_Segment_Concat==\"414\"|RFM_Segment_Concat==\"424\"').shape[0]/df_rfm.shape[0]\n",
        "# df_rfm_.query('RFM_Segment_Concat==\"434\"|RFM_Segment_Concat==\"444\"').shape[0]/df_rfm.shape[0]\n",
        "# df_rfm_.query('RFM_Segment_Concat==\"431\"|RFM_Segment_Concat==\"421\"').shape[0]/df_rfm.shape[0]\n",
        "df_rfm_.query('RFM_Segment_Concat==\"114\"|RFM_Segment_Concat==\"214\"').shape[0]/df_rfm.shape[0]\n",
        "df_rfm_.query('RFM_Segment_Concat==\"314\"').shape[0]/df_rfm.shape[0]"
      ],
      "execution_count": null,
      "outputs": []
    },
    {
      "cell_type": "code",
      "metadata": {
        "id": "U9DrvTxm0O3L"
      },
      "source": [
        "# df_rfm_.query('RFM_Segment_Concat==\"414\"|RFM_Segment_Concat==\"424\"').MonetaryValue.sum()/df_rfm.MonetaryValue.sum()\n",
        "# df_rfm_.query('RFM_Segment_Concat==\"434\"|RFM_Segment_Concat==\"444\"').MonetaryValue.sum()/df_rfm.MonetaryValue.sum()\n",
        "# df_rfm_.query('RFM_Segment_Concat==\"431\"|RFM_Segment_Concat==\"421\"').MonetaryValue.sum()/df_rfm.MonetaryValue.sum()\n",
        "df_rfm_.query('RFM_Segment_Concat==\"114\"|RFM_Segment_Concat==\"214\"').MonetaryValue.sum()/df_rfm.MonetaryValue.sum()\n",
        "df_rfm_.query('RFM_Segment_Concat==\"314\"').MonetaryValue.sum()/df_rfm.MonetaryValue.sum()\n"
      ],
      "execution_count": null,
      "outputs": []
    },
    {
      "cell_type": "code",
      "metadata": {
        "id": "g3BBUwQCBryY"
      },
      "source": [
        "df_rfm_.groupby('RFM_Segment_Concat').agg({'MonetaryValue':'sum'}).sort_values(by='MonetaryValue').tail(20)"
      ],
      "execution_count": null,
      "outputs": []
    },
    {
      "cell_type": "code",
      "metadata": {
        "id": "RsGe0oRAKhem"
      },
      "source": [
        "df_rfm.columns"
      ],
      "execution_count": null,
      "outputs": []
    },
    {
      "cell_type": "code",
      "metadata": {
        "id": "0kaIjZac4BFI"
      },
      "source": [
        "df_booking_2019 = pd.merge(df_booking_2019, df_rfm_[['RFM_Score', 'RFM_Segment_Concat']], left_on='member_id', right_index=True)"
      ],
      "execution_count": null,
      "outputs": []
    },
    {
      "cell_type": "code",
      "metadata": {
        "id": "l0wTS7RvK4yW"
      },
      "source": [
        "df_booking_2019.query('RFM_Segment_Concat==\"434\"|RFM_Segment_Concat==\"444\"').groupby('country_cd').agg({'price':['sum', 'mean'],\n",
        "                                                                                                        'revenue':['sum', 'mean'], })"
      ],
      "execution_count": null,
      "outputs": []
    },
    {
      "cell_type": "code",
      "metadata": {
        "id": "lzn0pCz3O2NK"
      },
      "source": [
        "  df_booking_2019"
      ],
      "execution_count": null,
      "outputs": []
    },
    {
      "cell_type": "code",
      "metadata": {
        "id": "7FVGtjHLQyOs"
      },
      "source": [
        "df_rfm[df_rfm.M==4].sort_values(['Frequency','MonetaryValue']).tail(100)"
      ],
      "execution_count": null,
      "outputs": []
    },
    {
      "cell_type": "code",
      "metadata": {
        "id": "XPeyOvVRXdP_"
      },
      "source": [
        "pd.pivot_table(df_rfm, index='R', columns=['F'], \n",
        "               values=['MonetaryValue'], \n",
        "               aggfunc=['sum', 'mean', 'count']).sort_index(ascending=False)"
      ],
      "execution_count": null,
      "outputs": []
    },
    {
      "cell_type": "code",
      "metadata": {
        "id": "SLtBrLHUa8v2"
      },
      "source": [
        "df_m_c = pd.pivot_table(df_rfm, index='R', columns=['F'], \n",
        "               values=['MonetaryValue'], \n",
        "               aggfunc=['count']).sort_index(ascending=False)/612319"
      ],
      "execution_count": null,
      "outputs": []
    },
    {
      "cell_type": "code",
      "metadata": {
        "id": "82JYKxxEYQC9"
      },
      "source": [
        "df_m_s = pd.pivot_table(df_rfm, index='R', columns=['F'], \n",
        "               values=['MonetaryValue'], \n",
        "               aggfunc=['sum']).sort_index(ascending=False)/61335856.990001425"
      ],
      "execution_count": null,
      "outputs": []
    },
    {
      "cell_type": "code",
      "metadata": {
        "id": "GVyhewnSSqE-"
      },
      "source": [
        "#https://towardsdatascience.com/recency-frequency-monetary-model-with-python-and-how-sephora-uses-it-to-optimize-their-google-d6a0707c5f17"
      ],
      "execution_count": null,
      "outputs": []
    },
    {
      "cell_type": "code",
      "metadata": {
        "id": "UykZ0-fzY0Ig"
      },
      "source": [
        "df_m_s.values/ df_m_c.values"
      ],
      "execution_count": null,
      "outputs": []
    },
    {
      "cell_type": "code",
      "metadata": {
        "id": "SYb-2zrEY3Ca"
      },
      "source": [
        "df_booking_.back_date.min(), df_booking_.back_date.max()"
      ],
      "execution_count": null,
      "outputs": []
    },
    {
      "cell_type": "code",
      "metadata": {
        "id": "s4IEQjZ9qI-K"
      },
      "source": [
        "df_booking_.head()"
      ],
      "execution_count": null,
      "outputs": []
    },
    {
      "cell_type": "code",
      "metadata": {
        "id": "lvTzX0UZVaBF"
      },
      "source": [
        ""
      ],
      "execution_count": null,
      "outputs": []
    },
    {
      "cell_type": "markdown",
      "metadata": {
        "id": "WmYdZUyGcRb-"
      },
      "source": [
        "## NES\n",
        "\n",
        "* 顧客的新增率：新顧客的增加幅度，可以搭配總會員人數一起看\n",
        "* 各分群變動率：可以看出整體顧客是傾向活躍、回購，還是逐漸流失\n",
        "* 顧客流失率：熟睡顧客佔整體顧客的比例，若數字太高需要特別注意\n",
        "* 各分群轉化率：觀察不同行銷活動和接觸時間，是否會造成分群轉化率的變動\n",
        "* 顧客活躍度：可用回購或回覆訊息等行為，作為活躍門檻\n",
        "* S1 瞌睡顧客喚醒率\n",
        "* S2 半睡顧客喚醒率\n",
        "* S3 沉睡顧客喚醒率\n",
        "* N 新顧客客單價\n",
        "* E 主力顧客客單價\n",
        "\n",
        "[電商 CRM 再行銷密技](https://ezorderly.com/blog/2020/08/30/NES/)  "
      ]
    },
    {
      "cell_type": "code",
      "metadata": {
        "id": "eCj0Gy4rcXuT"
      },
      "source": [
        "df_booking.head()"
      ],
      "execution_count": null,
      "outputs": []
    },
    {
      "cell_type": "code",
      "metadata": {
        "id": "atCdZsQEcl5j"
      },
      "source": [
        ""
      ],
      "execution_count": null,
      "outputs": []
    },
    {
      "cell_type": "code",
      "metadata": {
        "id": "ZRMfl1iMcmMx"
      },
      "source": [
        "df_booking = pd.merge(df_user_info[['member_id', 'create_date']],\n",
        "                      df_booking, on=\"member_id\",\n",
        "                      suffixes=('_sing_up', '_booking'))"
      ],
      "execution_count": null,
      "outputs": []
    },
    {
      "cell_type": "code",
      "metadata": {
        "id": "HNOw0zD1cmM0"
      },
      "source": [
        "df_booking.columns"
      ],
      "execution_count": null,
      "outputs": []
    },
    {
      "cell_type": "code",
      "metadata": {
        "id": "dvB3rT2WcmM2"
      },
      "source": [
        "df_booking['order_month'] = df_booking.create_date_booking.dt.to_period('M')\n",
        "# ['back_date'].dt.to_period('M')\n",
        "\n",
        "\n"
      ],
      "execution_count": null,
      "outputs": []
    },
    {
      "cell_type": "code",
      "metadata": {
        "id": "fORvNWsScmM4"
      },
      "source": [
        "df_booking['cohort'] = df_booking.groupby('member_id')['create_date_booking'] \\\n",
        "                 .transform('min') \\\n",
        "                 .dt.to_period('M')"
      ],
      "execution_count": null,
      "outputs": []
    },
    {
      "cell_type": "code",
      "metadata": {
        "id": "EDoYXUuvnKPt"
      },
      "source": [
        "last_record = df_booking.create_date_booking.max()"
      ],
      "execution_count": null,
      "outputs": []
    },
    {
      "cell_type": "code",
      "metadata": {
        "id": "NnlPijx1_fkO"
      },
      "source": [
        "# df_booking.groupby('member_id')['create_date_booking'].nlargest(2)\n",
        "df_booking.sort_values(by=['create_date_booking'],ascending=False).groupby('member_id').head(2)['create_date_booking']"
      ],
      "execution_count": null,
      "outputs": []
    },
    {
      "cell_type": "code",
      "metadata": {
        "id": "IIDcvhvoB5fr"
      },
      "source": [
        "df_booking.sort_values(by=['create_date_booking'],ascending=True).groupby('member_id').head(1)['create_date_booking']"
      ],
      "execution_count": null,
      "outputs": []
    },
    {
      "cell_type": "code",
      "metadata": {
        "id": "ZaFI9GGHblI_"
      },
      "source": [
        "df_booking = df_booking.sort_values(by=['create_date_booking', 'member_id'], ascending=True).reset_index(drop=True)\n",
        "# .create_date_booking_sh_1 - df_booking.create_date_booking"
      ],
      "execution_count": null,
      "outputs": []
    },
    {
      "cell_type": "code",
      "metadata": {
        "id": "REtwrEJwdHlI"
      },
      "source": [
        "df_booking"
      ],
      "execution_count": null,
      "outputs": []
    },
    {
      "cell_type": "code",
      "metadata": {
        "id": "IOZRFJSMc8GM"
      },
      "source": [
        "df_booking_paid = df_booking.query('order_status==\"BACK\"')"
      ],
      "execution_count": null,
      "outputs": []
    },
    {
      "cell_type": "code",
      "metadata": {
        "id": "7P4PJdphZJR0"
      },
      "source": [
        "df_booking_paid['create_date_booking_sh_1'] = df_booking_paid.groupby('member_id')['create_date_booking'].shift(1)"
      ],
      "execution_count": null,
      "outputs": []
    },
    {
      "cell_type": "code",
      "metadata": {
        "id": "H0GVp6SrDgUC"
      },
      "source": [
        "df_booking_paid.create_date_booking_sh_1 = df_booking_paid.create_date_booking_sh_1.fillna(df_booking_paid['create_date_booking'])"
      ],
      "execution_count": null,
      "outputs": []
    },
    {
      "cell_type": "code",
      "metadata": {
        "id": "7fDkTvP1ILAd"
      },
      "source": [
        "df_booking_paid['cum_count'] = df_booking_paid.groupby('member_id')['create_date_booking'].cumcount()+1"
      ],
      "execution_count": null,
      "outputs": []
    },
    {
      "cell_type": "code",
      "metadata": {
        "id": "0HTLT1g-EHXF"
      },
      "source": [
        "# df_booking.sort_values('member_id')"
      ],
      "execution_count": null,
      "outputs": []
    },
    {
      "cell_type": "code",
      "metadata": {
        "id": "3coXEr55Ehs4"
      },
      "source": [
        "df_booking_paid.loc[df_booking_paid.create_date_booking_sh_1.isna(), \"create_date_booking_sh_1\"] = df_booking_paid[df_booking_paid.create_date_booking_sh_1.isna()].create_date_booking\n",
        "# (df_booking['create_date_booking'])"
      ],
      "execution_count": null,
      "outputs": []
    },
    {
      "cell_type": "code",
      "metadata": {
        "id": "uYfrJ5eiFJso"
      },
      "source": [
        "df_booking_paid = df_booking_paid.sort_values(by=[\"member_id\",\"create_date_booking\"])"
      ],
      "execution_count": null,
      "outputs": []
    },
    {
      "cell_type": "code",
      "metadata": {
        "id": "bT_KMMPcePDf"
      },
      "source": [
        "df_booking_paid['pay_period'] = (df_booking_paid.create_date_booking - df_booking_paid.create_date_booking_sh_1).dt.days"
      ],
      "execution_count": null,
      "outputs": []
    },
    {
      "cell_type": "code",
      "metadata": {
        "id": "SyV6efQf8XmM"
      },
      "source": [
        "# (df_booking.create_date_booking - df_booking.create_date_booking_sh_1).dt.days"
      ],
      "execution_count": null,
      "outputs": []
    },
    {
      "cell_type": "code",
      "metadata": {
        "id": "UO-6CUeTB4Eb"
      },
      "source": [
        "df_booking_paid"
      ],
      "execution_count": null,
      "outputs": []
    },
    {
      "cell_type": "code",
      "metadata": {
        "id": "-L36WxQ6B4Hu"
      },
      "source": [
        ""
      ],
      "execution_count": null,
      "outputs": []
    },
    {
      "cell_type": "code",
      "metadata": {
        "id": "-HI_KtDmVaEp"
      },
      "source": [
        "df_nes = df_booking.groupby('member_id').agg({'create_date_booking': [\n",
        "                                                                    #   lambda x: (x.max()- x.min()).days, # Retention  \n",
        "                                                                      lambda x: (x.max() - x.nlargest(2)).dt.days, #Recency\n",
        "                                          lambda x: (last_record - x.max()).days, ], #Recency\n",
        "                                         'order_id': lambda x: len(x), # Frequency\n",
        "                                         'revenue': lambda x: x.sum(), # Monetary Value\n",
        "                                             }) \n",
        "\n"
      ],
      "execution_count": null,
      "outputs": []
    },
    {
      "cell_type": "code",
      "metadata": {
        "id": "n4KgBOhvw97b"
      },
      "source": [
        "# df_booking.groupby('member_id').create_date_booking.apply(lambda x: (x.max()- x.min()).days)"
      ],
      "execution_count": null,
      "outputs": []
    },
    {
      "cell_type": "code",
      "metadata": {
        "id": "pjjJAFqctPE1"
      },
      "source": [
        "df_nes.columns = ['total_day', 'recency', 'frequency', 'monetary_value']\n"
      ],
      "execution_count": null,
      "outputs": []
    },
    {
      "cell_type": "code",
      "metadata": {
        "id": "iB5EhHhWu7rp"
      },
      "source": [
        "from datetime import datetime"
      ],
      "execution_count": null,
      "outputs": []
    },
    {
      "cell_type": "code",
      "metadata": {
        "id": "n0MQOQMPu4O8"
      },
      "source": [
        "day = datetime.now().strftime(\"%Y-%m\")\n"
      ],
      "execution_count": null,
      "outputs": []
    },
    {
      "cell_type": "code",
      "metadata": {
        "id": "DGBr4jAEvCKA"
      },
      "source": [
        "day"
      ],
      "execution_count": null,
      "outputs": []
    },
    {
      "cell_type": "code",
      "metadata": {
        "id": "62lZ7ncang0K"
      },
      "source": [
        "E0 = df_nes[(df_nes[\"recency\"] <= df_nes['total_day'])][\"recency\"].count()\n",
        "s1 = df_nes[(df_nes[\"recency\"] > df_nes['total_day']) & (df_nes[\"recency\"] <= df_nes['total_day']*2)][\"recency\"].count()\n",
        "s2 = df_nes[(df_nes[\"recency\"] > df_nes['total_day']*2) & (df_nes[\"recency\"] <= df_nes['total_day']*3)][\"recency\"].count()\n",
        "S3 = df_nes[(df_nes[\"recency\"] > df_nes['total_day']*3)][\"recency\"].count()\n",
        "total = df_nes[\"recency\"].count()\n"
      ],
      "execution_count": null,
      "outputs": []
    },
    {
      "cell_type": "code",
      "metadata": {
        "id": "uBVWf_oT07v8"
      },
      "source": [
        "def nes_type(df):\n",
        "    if df[\"recency\"] <= df['total_day']:\n",
        "        return 'E0'\n",
        "    elif (df[\"recency\"] > df['total_day']) and (df[\"recency\"] <= df['total_day']*2):\n",
        "        return 'E1'\n",
        "    elif (df[\"recency\"] > df['total_day']*2) and (df[\"recency\"] <= df['total_day']*3):\n",
        "        return 'E2'\n",
        "    elif (df[\"recency\"] > df['total_day']*3):\n",
        "        return 'S1'\n",
        "\n"
      ],
      "execution_count": null,
      "outputs": []
    },
    {
      "cell_type": "code",
      "metadata": {
        "id": "7fA-cIsC2J0C"
      },
      "source": [
        "df_nes.info()"
      ],
      "execution_count": null,
      "outputs": []
    },
    {
      "cell_type": "code",
      "metadata": {
        "id": "EwF5Xt9L2B12"
      },
      "source": [
        "# nes_type(nesTable)\n",
        "df_nes['type'] = df_nes.apply(nes_type, axis=1)"
      ],
      "execution_count": null,
      "outputs": []
    },
    {
      "cell_type": "code",
      "metadata": {
        "id": "ByvCJFsq5znz"
      },
      "source": [
        "df_nes.groupby('type').agg({'monetary_value':'sum'})"
      ],
      "execution_count": null,
      "outputs": []
    },
    {
      "cell_type": "code",
      "metadata": {
        "id": "uTScPprbwns2"
      },
      "source": [
        "list_nes=[]\n",
        "list_nes.append([\n",
        "            day, E0, E1, E2, S1,total\n",
        "            ])\n",
        "\n",
        "df_nes_stat = pd.DataFrame(pList)\n",
        "df_nes_stat.columns = ['Day','E0','E1', 'E2', 'S1','total']"
      ],
      "execution_count": null,
      "outputs": []
    },
    {
      "cell_type": "code",
      "metadata": {
        "id": "BfZPiGJrVYje"
      },
      "source": [
        "df_nes_stat"
      ],
      "execution_count": null,
      "outputs": []
    },
    {
      "cell_type": "code",
      "metadata": {
        "id": "O_Xe9m1icP1x"
      },
      "source": [
        ""
      ],
      "execution_count": null,
      "outputs": []
    },
    {
      "cell_type": "code",
      "metadata": {
        "id": "4z4GF8dXWGO-"
      },
      "source": [
        ""
      ],
      "execution_count": null,
      "outputs": []
    },
    {
      "cell_type": "markdown",
      "metadata": {
        "id": "dOyyfNXKV9jB"
      },
      "source": [
        "## CAI \n",
        "* [留住一個客人，遠比帶進一個新客更划算！](https://medium.com/marketingdatascience/%E7%95%99%E4%BD%8F%E4%B8%80%E5%80%8B%E5%AE%A2%E4%BA%BA-%E9%81%A0%E6%AF%94%E5%B8%B6%E9%80%B2%E4%B8%80%E5%80%8B%E6%96%B0%E5%AE%A2%E6%9B%B4%E5%88%92%E7%AE%97-%E9%99%84%E9%A1%A7%E5%AE%A2%E6%B4%BB%E8%BA%8D%E5%BA%A6%E5%85%B7%E9%AB%94%E6%A1%88%E4%BE%8B-b6d463dd2a6f)\n",
        "\n",
        "![image.png](data:image/png;base64,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)"
      ]
    },
    {
      "cell_type": "code",
      "metadata": {
        "id": "qpIU4675Wa2H"
      },
      "source": [
        "df_booking_paid = pd.merge(df_booking_paid, df_booking_paid.groupby('member_id').agg({'pay_period':np.mean}), on='member_id')"
      ],
      "execution_count": null,
      "outputs": []
    },
    {
      "cell_type": "code",
      "metadata": {
        "id": "cj5JRaL8WayW"
      },
      "source": [
        " df_booking_paid.member_id.unique()\n",
        "#  .groupby('member_id').apply( lambda x : (x['pay_period_y'] - sum(x['cum_count']*x['pay_period_x']))/x['pay_period_y'])"
      ],
      "execution_count": null,
      "outputs": []
    },
    {
      "cell_type": "code",
      "metadata": {
        "id": "9Uy5_I_Eoc8s"
      },
      "source": [
        "df_booking_paid.query('member_id ==\"00000bb40c7a270cd1991699858a6189\"')"
      ],
      "execution_count": null,
      "outputs": []
    },
    {
      "cell_type": "code",
      "metadata": {
        "id": "kp8HFDZGp-en"
      },
      "source": [
        "from tqdm import tqdm_notebook\n",
        "import multiprocessing as mp\n",
        "import threading\n",
        "import time\n",
        "import dask\n",
        "from dask import compute, delayed\n"
      ],
      "execution_count": null,
      "outputs": []
    },
    {
      "cell_type": "code",
      "metadata": {
        "id": "_iBCa-sqo2Ct"
      },
      "source": [
        "def CAI(x):\n",
        "    \n",
        "    return (x['pay_period_y'] - sum(x['cum_count'] * x['pay_period_x'])) /((x['pay_period_y'])+1)"
      ],
      "execution_count": null,
      "outputs": []
    },
    {
      "cell_type": "code",
      "metadata": {
        "id": "PbdT4cPdpKTK"
      },
      "source": [
        "# d = df_booking_paid.query('member_id ==\"00000bb40c7a270cd1991699858a6189\"')"
      ],
      "execution_count": null,
      "outputs": []
    },
    {
      "cell_type": "code",
      "metadata": {
        "id": "YNl9gFt_oNbt"
      },
      "source": [
        "# {m: CAI(df_booking_paid.query('member_id ==@m')) for m in tqdm_notebook(df_booking_paid.member_id.unique())}"
      ],
      "execution_count": null,
      "outputs": []
    },
    {
      "cell_type": "code",
      "metadata": {
        "id": "KcV2BxtZx8ns"
      },
      "source": [
        "(df_booking_paid.pay_period_y - (df_booking_paid.cum_count * df_booking_paid.pay_period_x))/(df_booking_paid.pay_period_y)"
      ],
      "execution_count": null,
      "outputs": []
    },
    {
      "cell_type": "code",
      "metadata": {
        "id": "J6g-3yMUdRfG"
      },
      "source": [
        "df_booking_paid"
      ],
      "execution_count": null,
      "outputs": []
    },
    {
      "cell_type": "markdown",
      "metadata": {
        "id": "-tWnSs5Am8YF"
      },
      "source": [
        "## funnel chart"
      ]
    },
    {
      "cell_type": "code",
      "metadata": {
        "id": "vztscudenAGk"
      },
      "source": [
        "import plotly.express as px\n",
        "data = dict(\n",
        "    number=[39, 27.4, 20.6, 11, 2],\n",
        "    stage=[\"Website visit\", \"Downloads\", \"Potential customers\", \"Requested price\", \"invoice sent\"])\n",
        "fig = px.funnel(data, x='number', y='stage')\n",
        "fig.show()\n",
        "# https://plotly.com/python/funnel-charts/"
      ],
      "execution_count": null,
      "outputs": []
    },
    {
      "cell_type": "markdown",
      "metadata": {
        "id": "g-Kxt_7vp706"
      },
      "source": [
        "## notes\n",
        "\n",
        "\n",
        "\n",
        "*   分早中晚 / 季 分析轉換率\n",
        "*   分產品分析轉換率\n",
        "\n",
        "\n",
        "*   熟散客購買比例\n",
        "*   List item\n",
        "\n",
        "\n",
        "\n"
      ]
    },
    {
      "cell_type": "markdown",
      "metadata": {
        "id": "Zo8uVUorbBcS"
      },
      "source": [
        "# 顧客流失預警系統\n",
        "# 顧客各商品購買推薦"
      ]
    },
    {
      "cell_type": "code",
      "metadata": {
        "id": "M9wu2jsSpQhc"
      },
      "source": [
        "\n",
        "dfnew_train = df_booking_[df_booking_.back_date < datetime.date(2019, 12, 31)]\n",
        "dfnew_test = df_booking_[df_booking_.back_date >= datetime.date(2020, 02, 05)]\n",
        "\n",
        "maxdate = dfnew_train.InvoiceDate.max()\n",
        "mindate = dfnew_train.InvoiceDate.min()\n",
        "\n",
        "dfnew_train['duration'] =  (maxdate - dfnew_train.InvoiceDate)/np.timedelta64(1, 'D')\n",
        "# get time duration between the last transaction to now\n",
        "dfsum1 = dfnew_train.groupby(['CustomerID'])['duration'].min().reset_index()\n",
        "dfsum1.head()\n",
        "\n",
        "dfsum1.rename(columns = {'duration':'latetime'}, inplace = True)\n",
        "\n",
        "# get time duration between the first transaction to now\n",
        "dfsum2 = dfnew_train.groupby(['CustomerID'])['duration'].max().reset_index()\n",
        "dfsum2.rename(columns = {'duration':'earlytime'}, inplace = True)\n",
        "\n",
        "# get transaction frequency (whole history)\n",
        "dfnew_train['freq'] =1 \n",
        "dfsum3 = dfnew_train.groupby(['CustomerID'])['freq'].sum().reset_index()\n",
        "\n",
        "# get transaction frequency (recent 3 months history)\n",
        "dfnew_train['freq_3m'] =1 \n",
        "dfsum4 = dfnew_train[dfnew_train.duration<91].groupby(['CustomerID'])['freq_3m'].sum().reset_index()\n",
        "\n",
        "dfsum = pd.merge(dfsum1, dfsum2, on=['CustomerID'], how='outer')\n",
        "dfsum = pd.merge(dfsum, dfsum3, on=['CustomerID'], how='outer')\n",
        "dfsum = pd.merge(dfsum, dfsum4, on=['CustomerID'], how='outer')\n",
        "\n",
        "#get other data source\n",
        "other_data = pd.read_csv('oth.csv')\n",
        "list(other_data.columns)\n",
        "dfsum = pd.merge(dfsum, other_data, on=['CustomerID'], how='left')\n",
        "\n",
        "# get target \n",
        "dfnew_test['target'] = 1\n",
        "dfsum_target = dfnew_test.groupby(['CustomerID'])['target'].sum().reset_index()\n",
        "\n",
        "dfsum = pd.merge(dfsum, dfsum_target, on=['CustomerID'], how='left')\n",
        "dfsum  = dfsum.fillna(0).sort_values(['target'], ascending = False)\n",
        "\n",
        "# check all features in the modeling data\n",
        "list(dfsum.columns)\n",
        "dfsum.head(10)\n"
      ],
      "execution_count": null,
      "outputs": []
    },
    {
      "cell_type": "code",
      "metadata": {
        "id": "EAv1eTI0cNAp"
      },
      "source": [
        ""
      ],
      "execution_count": null,
      "outputs": []
    }
  ]
}